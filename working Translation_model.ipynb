{
  "nbformat": 4,
  "nbformat_minor": 0,
  "metadata": {
    "colab": {
      "provenance": [],
      "gpuType": "T4",
      "include_colab_link": true
    },
    "kernelspec": {
      "name": "python3",
      "display_name": "Python 3"
    },
    "language_info": {
      "name": "python"
    },
    "accelerator": "GPU"
  },
  "cells": [
    {
      "cell_type": "markdown",
      "metadata": {
        "id": "view-in-github",
        "colab_type": "text"
      },
      "source": [
        "<a href=\"https://colab.research.google.com/github/a-0yahya/Portfolio_A.Y/blob/main/working%20Translation_model.ipynb\" target=\"_parent\"><img src=\"https://colab.research.google.com/assets/colab-badge.svg\" alt=\"Open In Colab\"/></a>"
      ]
    },
    {
      "cell_type": "code",
      "source": [
        "!pip install groq langdetect pandas openpyxl\n"
      ],
      "metadata": {
        "colab": {
          "base_uri": "https://localhost:8080/"
        },
        "id": "o6BteiPPndQJ",
        "outputId": "630ff5b3-c12e-46f1-9667-0c072f0ef54f"
      },
      "execution_count": 25,
      "outputs": [
        {
          "output_type": "stream",
          "name": "stdout",
          "text": [
            "Collecting groq\n",
            "  Downloading groq-0.18.0-py3-none-any.whl.metadata (14 kB)\n",
            "Requirement already satisfied: langdetect in /usr/local/lib/python3.11/dist-packages (1.0.9)\n",
            "Requirement already satisfied: pandas in /usr/local/lib/python3.11/dist-packages (2.2.2)\n",
            "Requirement already satisfied: openpyxl in /usr/local/lib/python3.11/dist-packages (3.1.5)\n",
            "Requirement already satisfied: anyio<5,>=3.5.0 in /usr/local/lib/python3.11/dist-packages (from groq) (3.7.1)\n",
            "Requirement already satisfied: distro<2,>=1.7.0 in /usr/local/lib/python3.11/dist-packages (from groq) (1.9.0)\n",
            "Requirement already satisfied: httpx<1,>=0.23.0 in /usr/local/lib/python3.11/dist-packages (from groq) (0.28.1)\n",
            "Requirement already satisfied: pydantic<3,>=1.9.0 in /usr/local/lib/python3.11/dist-packages (from groq) (2.10.6)\n",
            "Requirement already satisfied: sniffio in /usr/local/lib/python3.11/dist-packages (from groq) (1.3.1)\n",
            "Requirement already satisfied: typing-extensions<5,>=4.10 in /usr/local/lib/python3.11/dist-packages (from groq) (4.12.2)\n",
            "Requirement already satisfied: six in /usr/local/lib/python3.11/dist-packages (from langdetect) (1.17.0)\n",
            "Requirement already satisfied: numpy>=1.23.2 in /usr/local/lib/python3.11/dist-packages (from pandas) (1.26.4)\n",
            "Requirement already satisfied: python-dateutil>=2.8.2 in /usr/local/lib/python3.11/dist-packages (from pandas) (2.8.2)\n",
            "Requirement already satisfied: pytz>=2020.1 in /usr/local/lib/python3.11/dist-packages (from pandas) (2025.1)\n",
            "Requirement already satisfied: tzdata>=2022.7 in /usr/local/lib/python3.11/dist-packages (from pandas) (2025.1)\n",
            "Requirement already satisfied: et-xmlfile in /usr/local/lib/python3.11/dist-packages (from openpyxl) (2.0.0)\n",
            "Requirement already satisfied: idna>=2.8 in /usr/local/lib/python3.11/dist-packages (from anyio<5,>=3.5.0->groq) (3.10)\n",
            "Requirement already satisfied: certifi in /usr/local/lib/python3.11/dist-packages (from httpx<1,>=0.23.0->groq) (2025.1.31)\n",
            "Requirement already satisfied: httpcore==1.* in /usr/local/lib/python3.11/dist-packages (from httpx<1,>=0.23.0->groq) (1.0.7)\n",
            "Requirement already satisfied: h11<0.15,>=0.13 in /usr/local/lib/python3.11/dist-packages (from httpcore==1.*->httpx<1,>=0.23.0->groq) (0.14.0)\n",
            "Requirement already satisfied: annotated-types>=0.6.0 in /usr/local/lib/python3.11/dist-packages (from pydantic<3,>=1.9.0->groq) (0.7.0)\n",
            "Requirement already satisfied: pydantic-core==2.27.2 in /usr/local/lib/python3.11/dist-packages (from pydantic<3,>=1.9.0->groq) (2.27.2)\n",
            "Downloading groq-0.18.0-py3-none-any.whl (121 kB)\n",
            "\u001b[?25l   \u001b[90m━━━━━━━━━━━━━━━━━━━━━━━━━━━━━━━━━━━━━━━━\u001b[0m \u001b[32m0.0/121.9 kB\u001b[0m \u001b[31m?\u001b[0m eta \u001b[36m-:--:--\u001b[0m\r\u001b[2K   \u001b[90m━━━━━━━━━━━━━━━━━━━━━━━━━━━━━━━━━━━━━━━━\u001b[0m \u001b[32m121.9/121.9 kB\u001b[0m \u001b[31m6.3 MB/s\u001b[0m eta \u001b[36m0:00:00\u001b[0m\n",
            "\u001b[?25hInstalling collected packages: groq\n",
            "Successfully installed groq-0.18.0\n"
          ]
        }
      ]
    },
    {
      "cell_type": "code",
      "source": [
        "import os\n",
        "import pandas as pd\n",
        "import groq\n",
        "from langdetect import detect"
      ],
      "metadata": {
        "id": "xqb32A1HPrAf"
      },
      "execution_count": 26,
      "outputs": []
    },
    {
      "cell_type": "code",
      "source": [
        "# Set up Groq API Key securely\n",
        "os.environ[\"GROQ_API_KEY\"] = \"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\"  # Replace with your Groq API Key\n",
        "client = groq.Client(api_key=os.getenv(\"GROQ_API_KEY\"))\n",
        "\n",
        "def translate_text(text, target_language=\"Indonesian\"):\n",
        "    \"\"\"Detects language and translates mixed-language text into the target language using Groq API.\"\"\"\n",
        "\n",
        "    if not isinstance(text, str) or text.strip() == \"\":\n",
        "        return \"\"  # Skip empty cells\n",
        "\n",
        "    detected_language = detect(text)\n",
        "    print(f\"Detected language: {detected_language} | Text: {text}\")\n",
        "\n",
        "    try:\n",
        "        response = client.chat.completions.create(\n",
        "            model=\"deepseek-r1-distill-llama-70b\",  # Use DeepSeek model for translation\n",
        "            messages=[\n",
        "                {\"role\": \"system\", \"content\": f\"You are a professional translator. Translate everything into {target_language}.\"},\n",
        "                {\"role\": \"user\", \"content\": text}\n",
        "            ],\n",
        "            temperature=0.3  # Keep translation accurate\n",
        "        )\n",
        "\n",
        "        translated_text = response.choices[0].message.content.strip()\n",
        "        return translated_text\n",
        "\n",
        "    except Exception as e:\n",
        "        print(f\"Translation failed: {e}\")\n",
        "        return text  # Return original text if translation fails\n",
        "\n"
      ],
      "metadata": {
        "id": "TAS9s__wJIsk"
      },
      "execution_count": 45,
      "outputs": []
    },
    {
      "cell_type": "code",
      "source": [],
      "metadata": {
        "id": "90B3KwQYZZJq"
      },
      "execution_count": null,
      "outputs": []
    },
    {
      "cell_type": "code",
      "source": [
        "# Set up Groq API Key securely\n",
        "os.environ[\"GROQ_API_KEY\"] = \"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\"  # Replace with your Groq API Key\n",
        "client = groq.Client(api_key=os.getenv(\"GROQ_API_KEY\"))"
      ],
      "metadata": {
        "id": "irY6I8H-ZY_l"
      },
      "execution_count": 57,
      "outputs": []
    },
    {
      "cell_type": "code",
      "source": [
        "def translate_text(text, target_language=\"Indonesian\"):\n",
        "    \"\"\"Detects language and translates mixed-language text into the target language using Groq API.\"\"\"\n",
        "\n",
        "    if not isinstance(text, str) or text.strip() == \"\":\n",
        "        return \"\"  # Skip empty cells\n",
        "\n",
        "    detected_language = detect(text)\n",
        "    print(f\"Detected language: {detected_language} | Text: {text}\")\n",
        "\n",
        "    try:\n",
        "        response = client.chat.completions.create(\n",
        "            model=\"deepseek-r1-distill-llama-70b\",  # Using DeepSeek model for translation\n",
        "            messages=[\n",
        "                {\"role\": \"system\", \"content\": f\"You are a translator. Translate the user's text into {target_language} ONLY. Do not include explanations, comments, or formatting. Return only the translated text.\"},\n",
        "                {\"role\": \"user\", \"content\": text}\n",
        "            ],\n",
        "            temperature=0.1  # Keep translation precise\n",
        "        )\n",
        "\n",
        "        translated_text = response.choices[0].message.content.strip()\n",
        "\n",
        "        # Ensure no unnecessary text is returned\n",
        "        return translated_text.split(\"\\n\")[-1]\n",
        "\n",
        "    except Exception as e:\n",
        "        print(f\"Translation failed: {e}\")\n",
        "        return text  # Return original text if translation fails"
      ],
      "metadata": {
        "id": "US3Uo-a8ZW_g"
      },
      "execution_count": 59,
      "outputs": []
    },
    {
      "cell_type": "code",
      "source": [
        "# Load Excel file\n",
        "file_path = \"/content/data.xlsx\"  # Change this to your uploaded file name\n",
        "df = pd.read_excel(file_path)\n",
        "\n",
        "# Ensure the Excel file has a column named \"Text\"\n",
        "if \"Text\" not in df.columns:\n",
        "    raise ValueError(\"Excel file must contain a column named 'Text'\")\n",
        "\n",
        "# Translate each row and save results in a new column\n",
        "df[\"Translated_Text\"] = df[\"Text\"].apply(lambda x: translate_text(x, target_language=\"Indonesian\"))\n",
        "\n",
        "# Save results back to a new Excel file\n",
        "output_path = \"/content/translated_data.xlsx\"\n",
        "df.to_excel(output_path, index=False)\n",
        "\n",
        "\n"
      ],
      "metadata": {
        "colab": {
          "base_uri": "https://localhost:8080/"
        },
        "id": "kysHNeonT3zY",
        "outputId": "b012446c-3e89-42c6-931c-a542efac83d2"
      },
      "execution_count": null,
      "outputs": [
        {
          "output_type": "stream",
          "name": "stdout",
          "text": [
            "Detected language: id | Text: foto jaman disik kamerane elek ddine meninggalkan efek sng ngapusi yo dek percyalah \n",
            "Detected language: en | Text: happy wedding brother sory kamerane elek with sigit pic \n",
            "Detected language: id | Text: maaf gak saingan sek ig storymu kamerane elek\n",
            "Detected language: no | Text: gasempet foto soale kamerane elek koyo kowe \n",
            "Detected language: id | Text: endak mas ikuw saking kamerane elek lek hujan yo ngiyup sek laaah\n",
            "Detected language: id | Text: kok gambare kamerane elek tik gamerane di ganti kayae akawkaw \n",
            "Detected language: tr | Text: kamerane elek fakultase yo iyo\n",
            "Detected language: et | Text: siapp mbak kamerane elek asline ijeh kemebul kopine \n",
            "Detected language: hu | Text: ketok ora e zot hpku kamerane elek e\n",
            "Detected language: no | Text: angle kamerane elek\n",
            "Detected language: id | Text:  hpmu kamerane elek yamaap mending andro beli pake duid sendiri ygyyy drpd iphone nendang pintu sehari jg hobi utang duidku\n",
            "Detected language: id | Text: halal bi halal komplek masuk angin melu poto jebul hape kamerane elek heueheueh \n",
            "Detected language: id | Text: ngapunten kamerane elek niki kamera hp kulo yg bermasalah kok saestu sampai jumpa lagi mas agus semoga sehat selalu juga untuk mbak kalis dan calon debay di perut \n",
            "Detected language: no | Text: hpne iphone tapi kamerane elek \n",
            "Detected language: en | Text: kamerane elek bingit tp it had captured my soon to be hubby s perfection \n",
            "Detected language: id | Text: monggo ngapurane kamerane elek \n",
            "Detected language: id | Text: nek kowe dadi bojoku rasah kuatir umpomo selfi rupamu elek sing tak salahke kamerane hapiee akuee \n",
            "Detected language: af | Text: pengen gawe story ning minder soale kamerane elek sak pas ro sing ndue\n",
            "Detected language: id | Text: sepurane kamerane elek peteng koyok wc \n",
            "Detected language: sk | Text: jare meh dm wkwk hpmu nexian po lee kok kamerane elek\n",
            "Detected language: sl | Text: hp ne opo sih kamerane elek tenan \n",
            "Detected language: id | Text: untung hpku kamerane elek cobo nek kamerane apik tep ngosak asik instagram auu\n",
            "Detected language: sl | Text: mbok kiro siomi kamerane elek pancen\n",
            "Detected language: sl | Text: ngopo to nek video ngene ki kok mesti kamerane elek \n",
            "Detected language: id | Text: lhaaa wong udu aipon ya kamerane elek laah fotone juga elek hape bisa nggo kerja be wis cukup koh\n"
          ]
        }
      ]
    },
    {
      "cell_type": "code",
      "source": [
        "# Display translated data in Google Colab\n",
        "from IPython.display import display\n",
        "display(df)\n",
        "\n",
        "print(f\"Translation complete. Download your file from: {output_path}\")"
      ],
      "metadata": {
        "id": "28fltXz-UUIc"
      },
      "execution_count": null,
      "outputs": []
    },
    {
      "cell_type": "code",
      "source": [],
      "metadata": {
        "id": "8tbkHWhOYVJO"
      },
      "execution_count": null,
      "outputs": []
    }
  ]
}