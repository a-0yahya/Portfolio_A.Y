{
  "nbformat": 4,
  "nbformat_minor": 0,
  "metadata": {
    "colab": {
      "provenance": [],
      "gpuType": "V28",
      "include_colab_link": true
    },
    "kernelspec": {
      "name": "python3",
      "display_name": "Python 3"
    },
    "language_info": {
      "name": "python"
    },
    "accelerator": "TPU"
  },
  "cells": [
    {
      "cell_type": "markdown",
      "metadata": {
        "id": "view-in-github",
        "colab_type": "text"
      },
      "source": [
        "<a href=\"https://colab.research.google.com/github/a-0yahya/Portfolio_A.Y/blob/main/Translation_test.ipynb\" target=\"_parent\"><img src=\"https://colab.research.google.com/assets/colab-badge.svg\" alt=\"Open In Colab\"/></a>"
      ]
    },
    {
      "cell_type": "code",
      "source": [
        "!pip install groq"
      ],
      "metadata": {
        "colab": {
          "base_uri": "https://localhost:8080/"
        },
        "id": "A4aX3XSGQ4xl",
        "outputId": "7336f721-8bfe-4808-8151-d4b0f67d8309"
      },
      "execution_count": null,
      "outputs": [
        {
          "output_type": "stream",
          "name": "stdout",
          "text": [
            "Collecting groq\n",
            "  Downloading groq-0.15.0-py3-none-any.whl.metadata (14 kB)\n",
            "Requirement already satisfied: anyio<5,>=3.5.0 in /usr/local/lib/python3.11/dist-packages (from groq) (3.7.1)\n",
            "Requirement already satisfied: distro<2,>=1.7.0 in /usr/lib/python3/dist-packages (from groq) (1.7.0)\n",
            "Collecting httpx<1,>=0.23.0 (from groq)\n",
            "  Downloading httpx-0.28.1-py3-none-any.whl.metadata (7.1 kB)\n",
            "Requirement already satisfied: pydantic<3,>=1.9.0 in /usr/local/lib/python3.11/dist-packages (from groq) (2.10.5)\n",
            "Requirement already satisfied: sniffio in /usr/local/lib/python3.11/dist-packages (from groq) (1.3.1)\n",
            "Requirement already satisfied: typing-extensions<5,>=4.10 in /usr/local/lib/python3.11/dist-packages (from groq) (4.12.2)\n",
            "Requirement already satisfied: idna>=2.8 in /usr/local/lib/python3.11/dist-packages (from anyio<5,>=3.5.0->groq) (3.10)\n",
            "Requirement already satisfied: certifi in /usr/local/lib/python3.11/dist-packages (from httpx<1,>=0.23.0->groq) (2024.12.14)\n",
            "Collecting httpcore==1.* (from httpx<1,>=0.23.0->groq)\n",
            "  Downloading httpcore-1.0.7-py3-none-any.whl.metadata (21 kB)\n",
            "Collecting h11<0.15,>=0.13 (from httpcore==1.*->httpx<1,>=0.23.0->groq)\n",
            "  Downloading h11-0.14.0-py3-none-any.whl.metadata (8.2 kB)\n",
            "Requirement already satisfied: annotated-types>=0.6.0 in /usr/local/lib/python3.11/dist-packages (from pydantic<3,>=1.9.0->groq) (0.7.0)\n",
            "Requirement already satisfied: pydantic-core==2.27.2 in /usr/local/lib/python3.11/dist-packages (from pydantic<3,>=1.9.0->groq) (2.27.2)\n",
            "Downloading groq-0.15.0-py3-none-any.whl (109 kB)\n",
            "\u001b[2K   \u001b[90m━━━━━━━━━━━━━━━━━━━━━━━━━━━━━━━━━━━━━━━━\u001b[0m \u001b[32m109.6/109.6 kB\u001b[0m \u001b[31m2.8 MB/s\u001b[0m eta \u001b[36m0:00:00\u001b[0m\n",
            "\u001b[?25hDownloading httpx-0.28.1-py3-none-any.whl (73 kB)\n",
            "\u001b[2K   \u001b[90m━━━━━━━━━━━━━━━━━━━━━━━━━━━━━━━━━━━━━━━━\u001b[0m \u001b[32m73.5/73.5 kB\u001b[0m \u001b[31m3.7 MB/s\u001b[0m eta \u001b[36m0:00:00\u001b[0m\n",
            "\u001b[?25hDownloading httpcore-1.0.7-py3-none-any.whl (78 kB)\n",
            "\u001b[2K   \u001b[90m━━━━━━━━━━━━━━━━━━━━━━━━━━━━━━━━━━━━━━━━\u001b[0m \u001b[32m78.6/78.6 kB\u001b[0m \u001b[31m3.6 MB/s\u001b[0m eta \u001b[36m0:00:00\u001b[0m\n",
            "\u001b[?25hDownloading h11-0.14.0-py3-none-any.whl (58 kB)\n",
            "\u001b[2K   \u001b[90m━━━━━━━━━━━━━━━━━━━━━━━━━━━━━━━━━━━━━━━━\u001b[0m \u001b[32m58.3/58.3 kB\u001b[0m \u001b[31m2.7 MB/s\u001b[0m eta \u001b[36m0:00:00\u001b[0m\n",
            "\u001b[?25hInstalling collected packages: h11, httpcore, httpx, groq\n",
            "Successfully installed groq-0.15.0 h11-0.14.0 httpcore-1.0.7 httpx-0.28.1\n"
          ]
        }
      ]
    },
    {
      "cell_type": "code",
      "source": [
        "import groq\n",
        "import os\n",
        "from typing import List"
      ],
      "metadata": {
        "id": "zVNBLN-2RBJF"
      },
      "execution_count": null,
      "outputs": []
    },
    {
      "cell_type": "code",
      "source": [
        "api_key = \"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\""
      ],
      "metadata": {
        "id": "ZkPX7_EkZt_b"
      },
      "execution_count": null,
      "outputs": []
    },
    {
      "cell_type": "code",
      "source": [
        "def translate_mixed_sentences(sentences: List[str], api_key: str) -> List[dict]:\n",
        "    \"\"\"\n",
        "    Translate code-mixed Indonesian-English sentences using Groq API.\n",
        "\n",
        "    Args:\n",
        "        sentences (List[str]): List of code-mixed sentences\n",
        "        api_key (str): Groq API key\n",
        "\n",
        "    Returns:\n",
        "        List[dict]: List of dictionaries containing original and translated sentences\n",
        "    \"\"\"\n",
        "    client = groq.Client(api_key=api_key)\n",
        "\n",
        "    translations = []\n",
        "\n",
        "    models = [\n",
        "        \"llama-3.3-70b-versatile\",\n",
        "        'gemma2-9b-it',\n",
        "        'llama3-8b-8192',\n",
        "        'mixtral-8x7b-32768'\n",
        "    ]\n",
        "\n",
        "    for sentence in sentences:\n",
        "        try:\n",
        "            # Create the prompt for translation\n",
        "            prompt = f\"\"\"Translate this code-mixed Indonesian-English sentence:\n",
        "            Original: {sentence}\n",
        "            Please provide:\n",
        "            1. Full English translation\n",
        "            2. Full Indonesian translation\n",
        "            Format the response as: English: <translation> | Indonesian: <translation>\"\"\"\n",
        "\n",
        "            # Call Groq API\n",
        "            chat_completion = client.chat.completions.create(\n",
        "                messages=[\n",
        "                    {\n",
        "                        \"role\": \"user\",\n",
        "                        \"content\": prompt,\n",
        "                    }\n",
        "                ],\n",
        "                model=models[0],\n",
        "                temperature=0.3,\n",
        "                max_tokens=200,\n",
        "            )\n",
        "\n",
        "            # Extract translations from response\n",
        "            response = chat_completion.choices[0].message.content\n",
        "            eng_trans = response.split(\"|\")[0].split(\"English:\")[1].strip()\n",
        "            indo_trans = response.split(\"|\")[1].split(\"Indonesian:\")[1].strip()\n",
        "\n",
        "            translations.append({\n",
        "                \"original\": sentence,\n",
        "                \"english\": eng_trans,\n",
        "                \"indonesian\": indo_trans\n",
        "            })\n",
        "\n",
        "        except Exception as e:\n",
        "            print(f\"Error translating sentence: {sentence}\")\n",
        "            print(f\"Error message: {str(e)}\")\n",
        "            translations.append({\n",
        "                \"original\": sentence,\n",
        "                \"english\": \"Translation failed\",\n",
        "                \"indonesian\": \"Translation failed\"\n",
        "            })\n",
        "\n",
        "    return translations"
      ],
      "metadata": {
        "id": "GBZHvCNkRFX0"
      },
      "execution_count": null,
      "outputs": []
    },
    {
      "cell_type": "code",
      "source": [
        "# Example usage\n",
        "def main():\n",
        "    # Sample code-mixed sentences\n",
        "    mixed_sentences = [\n",
        "      \"Aku mau pergi ke mall, but I need to finish my homework first.\",\n",
        "      \"Besok ada meeting di office, jangan lupa prepare dokumen.\",\n",
        "      \"Dia suka banget sama Indonesian food, especially rendang.\",\n",
        "      \"I will call kamu nanti after the class.\",\n",
        "      \"Hari ini cuaca panas banget, let’s stay inside aja.\"\n",
        "    ]\n",
        "\n",
        "    # Get translations\n",
        "    results = translate_mixed_sentences(mixed_sentences, api_key)\n",
        "\n",
        "    # Print results\n",
        "    print(\"\\nTranslation Results:\")\n",
        "    print(\"-------------------\")\n",
        "    for result in results:\n",
        "        print(f\"\\nOriginal: {result['original']}\")\n",
        "        print(f\"English: {result['english']}\")\n",
        "        print(f\"Indonesian: {result['indonesian']}\")\n",
        "\n",
        "if __name__ == \"__main__\":\n",
        "    main()"
      ],
      "metadata": {
        "colab": {
          "base_uri": "https://localhost:8080/"
        },
        "id": "_Anxl0p6ZW5E",
        "outputId": "909821c1-8554-4036-90ba-734631868221"
      },
      "execution_count": null,
      "outputs": [
        {
          "output_type": "stream",
          "name": "stdout",
          "text": [
            "\n",
            "Translation Results:\n",
            "-------------------\n",
            "\n",
            "Original: Aku mau pergi ke mall, but I need to finish my homework first.\n",
            "English: I want to go to the mall, but I need to finish my homework first.\n",
            "Indonesian: Aku mau pergi ke mal, tapi aku harus menyelesaikan pekerjaan rumahku terlebih dahulu.\n",
            "\n",
            "Original: Besok ada meeting di office, jangan lupa prepare dokumen.\n",
            "English: There's a meeting at the office tomorrow, don't forget to prepare the documents. \n",
            "Indonesian: Besok ada pertemuan di kantor, jangan lupa menyiapkan dokumen. \n",
            "\n",
            "So the response is:\n",
            "Indonesian: Besok ada pertemuan di kantor, jangan lupa menyiapkan dokumen.\n",
            "\n",
            "Original: Dia suka banget sama Indonesian food, especially rendang.\n",
            "English: He really likes Indonesian food, especially rendang.\n",
            "Indonesian: Dia sangat suka makanan Indonesia, terutama rendang.\n",
            "\n",
            "Original: I will call kamu nanti after the class.\n",
            "English: I will call you later after the class.\n",
            "Indonesian: Aku akan menelepon kamu nanti setelah kelas.\n",
            "\n",
            "Original: Hari ini cuaca panas banget, let’s stay inside aja.\n",
            "English: The weather is very hot today, let's just stay inside.\n",
            "Indonesian: Cuaca sangat panas hari ini, mari kita tinggal di dalam saja.\n"
          ]
        }
      ]
    },
    {
      "cell_type": "code",
      "source": [],
      "metadata": {
        "id": "-_Z8GsPzZ26Y"
      },
      "execution_count": null,
      "outputs": []
    }
  ]
}