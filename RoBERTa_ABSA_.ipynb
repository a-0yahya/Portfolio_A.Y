{
  "nbformat": 4,
  "nbformat_minor": 0,
  "metadata": {
    "colab": {
      "provenance": [],
      "gpuType": "T4",
      "include_colab_link": true
    },
    "kernelspec": {
      "name": "python3",
      "display_name": "Python 3"
    },
    "language_info": {
      "name": "python"
    },
    "accelerator": "GPU"
  },
  "cells": [
    {
      "cell_type": "markdown",
      "metadata": {
        "id": "view-in-github",
        "colab_type": "text"
      },
      "source": [
        "<a href=\"https://colab.research.google.com/github/a-0yahya/Portfolio_A.Y/blob/main/RoBERTa_ABSA_.ipynb\" target=\"_parent\"><img src=\"https://colab.research.google.com/assets/colab-badge.svg\" alt=\"Open In Colab\"/></a>"
      ]
    },
    {
      "cell_type": "code",
      "source": [
        "import torch\n",
        "import torch.nn as nn\n",
        "import torch.optim as optim\n",
        "import matplotlib.pyplot as plt\n",
        "import numpy as np\n",
        "import pandas as pd\n",
        "from sklearn.metrics import accuracy_score, f1_score, recall_score, precision_score, classification_report, confusion_matrix\n",
        "from transformers import RobertaTokenizer, RobertaModel, AdamW\n",
        "from torch.utils.data import Dataset, DataLoader\n",
        "from sklearn.model_selection import train_test_split\n",
        "import seaborn as sns\n",
        "import time\n",
        "import json"
      ],
      "metadata": {
        "id": "9gWjDQc1RzNr"
      },
      "execution_count": 2,
      "outputs": []
    },
    {
      "cell_type": "code",
      "source": [
        "# Load and Preprocess the Dataset\n",
        "df = pd.read_csv(\"dataset.csv\")  # Update with your file path if needed\n",
        "df.rename(columns={\"Reviews\": \"sentence\"}, inplace=True)\n",
        "\n",
        "# Use the 'sentiment' column as overall sentiment\n",
        "df[\"overall_sentiment\"] = df[\"sentiment\"]\n",
        "\n",
        "# Split Data: 80% Train, 10% Validation, 10% Test\n",
        "train_df, temp_df = train_test_split(df, test_size=0.2, random_state=42)\n",
        "val_df, test_df = train_test_split(temp_df, test_size=0.5, random_state=42)\n",
        "\n",
        "print(f\"Train samples: {len(train_df)}, Val samples: {len(val_df)}, Test samples: {len(test_df)}\")\n"
      ],
      "metadata": {
        "colab": {
          "base_uri": "https://localhost:8080/"
        },
        "id": "ijjIp9IGR4AB",
        "outputId": "3c9ac262-4512-4472-8c16-3230e6314020"
      },
      "execution_count": 4,
      "outputs": [
        {
          "output_type": "stream",
          "name": "stdout",
          "text": [
            "Train samples: 1543, Val samples: 193, Test samples: 193\n"
          ]
        }
      ]
    },
    {
      "cell_type": "code",
      "source": [
        "df.head()"
      ],
      "metadata": {
        "colab": {
          "base_uri": "https://localhost:8080/",
          "height": 206
        },
        "id": "jTqnBteYFNNV",
        "outputId": "41b425c0-b446-43a9-dd89-0f135a7bbaa1"
      },
      "execution_count": 5,
      "outputs": [
        {
          "output_type": "execute_result",
          "data": {
            "text/plain": [
              "                                            sentence  sentiment  \\\n",
              "0  foto jaman disik kamerane elek ddine meninggal...          0   \n",
              "1  happy wedding brother sory kamerane elek with ...          0   \n",
              "2      maaf gak saingan sek ig storymu kamerane elek          0   \n",
              "3       gasempet foto soale kamerane elek koyo kowe           0   \n",
              "4  endak mas ikuw saking kamerane elek lek hujan ...          0   \n",
              "\n",
              "   overall_sentiment  \n",
              "0                  0  \n",
              "1                  0  \n",
              "2                  0  \n",
              "3                  0  \n",
              "4                  0  "
            ],
            "text/html": [
              "\n",
              "  <div id=\"df-5fc45e95-b145-46ea-9823-653e5a289685\" class=\"colab-df-container\">\n",
              "    <div>\n",
              "<style scoped>\n",
              "    .dataframe tbody tr th:only-of-type {\n",
              "        vertical-align: middle;\n",
              "    }\n",
              "\n",
              "    .dataframe tbody tr th {\n",
              "        vertical-align: top;\n",
              "    }\n",
              "\n",
              "    .dataframe thead th {\n",
              "        text-align: right;\n",
              "    }\n",
              "</style>\n",
              "<table border=\"1\" class=\"dataframe\">\n",
              "  <thead>\n",
              "    <tr style=\"text-align: right;\">\n",
              "      <th></th>\n",
              "      <th>sentence</th>\n",
              "      <th>sentiment</th>\n",
              "      <th>overall_sentiment</th>\n",
              "    </tr>\n",
              "  </thead>\n",
              "  <tbody>\n",
              "    <tr>\n",
              "      <th>0</th>\n",
              "      <td>foto jaman disik kamerane elek ddine meninggal...</td>\n",
              "      <td>0</td>\n",
              "      <td>0</td>\n",
              "    </tr>\n",
              "    <tr>\n",
              "      <th>1</th>\n",
              "      <td>happy wedding brother sory kamerane elek with ...</td>\n",
              "      <td>0</td>\n",
              "      <td>0</td>\n",
              "    </tr>\n",
              "    <tr>\n",
              "      <th>2</th>\n",
              "      <td>maaf gak saingan sek ig storymu kamerane elek</td>\n",
              "      <td>0</td>\n",
              "      <td>0</td>\n",
              "    </tr>\n",
              "    <tr>\n",
              "      <th>3</th>\n",
              "      <td>gasempet foto soale kamerane elek koyo kowe</td>\n",
              "      <td>0</td>\n",
              "      <td>0</td>\n",
              "    </tr>\n",
              "    <tr>\n",
              "      <th>4</th>\n",
              "      <td>endak mas ikuw saking kamerane elek lek hujan ...</td>\n",
              "      <td>0</td>\n",
              "      <td>0</td>\n",
              "    </tr>\n",
              "  </tbody>\n",
              "</table>\n",
              "</div>\n",
              "    <div class=\"colab-df-buttons\">\n",
              "\n",
              "  <div class=\"colab-df-container\">\n",
              "    <button class=\"colab-df-convert\" onclick=\"convertToInteractive('df-5fc45e95-b145-46ea-9823-653e5a289685')\"\n",
              "            title=\"Convert this dataframe to an interactive table.\"\n",
              "            style=\"display:none;\">\n",
              "\n",
              "  <svg xmlns=\"http://www.w3.org/2000/svg\" height=\"24px\" viewBox=\"0 -960 960 960\">\n",
              "    <path d=\"M120-120v-720h720v720H120Zm60-500h600v-160H180v160Zm220 220h160v-160H400v160Zm0 220h160v-160H400v160ZM180-400h160v-160H180v160Zm440 0h160v-160H620v160ZM180-180h160v-160H180v160Zm440 0h160v-160H620v160Z\"/>\n",
              "  </svg>\n",
              "    </button>\n",
              "\n",
              "  <style>\n",
              "    .colab-df-container {\n",
              "      display:flex;\n",
              "      gap: 12px;\n",
              "    }\n",
              "\n",
              "    .colab-df-convert {\n",
              "      background-color: #E8F0FE;\n",
              "      border: none;\n",
              "      border-radius: 50%;\n",
              "      cursor: pointer;\n",
              "      display: none;\n",
              "      fill: #1967D2;\n",
              "      height: 32px;\n",
              "      padding: 0 0 0 0;\n",
              "      width: 32px;\n",
              "    }\n",
              "\n",
              "    .colab-df-convert:hover {\n",
              "      background-color: #E2EBFA;\n",
              "      box-shadow: 0px 1px 2px rgba(60, 64, 67, 0.3), 0px 1px 3px 1px rgba(60, 64, 67, 0.15);\n",
              "      fill: #174EA6;\n",
              "    }\n",
              "\n",
              "    .colab-df-buttons div {\n",
              "      margin-bottom: 4px;\n",
              "    }\n",
              "\n",
              "    [theme=dark] .colab-df-convert {\n",
              "      background-color: #3B4455;\n",
              "      fill: #D2E3FC;\n",
              "    }\n",
              "\n",
              "    [theme=dark] .colab-df-convert:hover {\n",
              "      background-color: #434B5C;\n",
              "      box-shadow: 0px 1px 3px 1px rgba(0, 0, 0, 0.15);\n",
              "      filter: drop-shadow(0px 1px 2px rgba(0, 0, 0, 0.3));\n",
              "      fill: #FFFFFF;\n",
              "    }\n",
              "  </style>\n",
              "\n",
              "    <script>\n",
              "      const buttonEl =\n",
              "        document.querySelector('#df-5fc45e95-b145-46ea-9823-653e5a289685 button.colab-df-convert');\n",
              "      buttonEl.style.display =\n",
              "        google.colab.kernel.accessAllowed ? 'block' : 'none';\n",
              "\n",
              "      async function convertToInteractive(key) {\n",
              "        const element = document.querySelector('#df-5fc45e95-b145-46ea-9823-653e5a289685');\n",
              "        const dataTable =\n",
              "          await google.colab.kernel.invokeFunction('convertToInteractive',\n",
              "                                                    [key], {});\n",
              "        if (!dataTable) return;\n",
              "\n",
              "        const docLinkHtml = 'Like what you see? Visit the ' +\n",
              "          '<a target=\"_blank\" href=https://colab.research.google.com/notebooks/data_table.ipynb>data table notebook</a>'\n",
              "          + ' to learn more about interactive tables.';\n",
              "        element.innerHTML = '';\n",
              "        dataTable['output_type'] = 'display_data';\n",
              "        await google.colab.output.renderOutput(dataTable, element);\n",
              "        const docLink = document.createElement('div');\n",
              "        docLink.innerHTML = docLinkHtml;\n",
              "        element.appendChild(docLink);\n",
              "      }\n",
              "    </script>\n",
              "  </div>\n",
              "\n",
              "\n",
              "<div id=\"df-e0a75864-979d-4614-9689-0b800411fb6a\">\n",
              "  <button class=\"colab-df-quickchart\" onclick=\"quickchart('df-e0a75864-979d-4614-9689-0b800411fb6a')\"\n",
              "            title=\"Suggest charts\"\n",
              "            style=\"display:none;\">\n",
              "\n",
              "<svg xmlns=\"http://www.w3.org/2000/svg\" height=\"24px\"viewBox=\"0 0 24 24\"\n",
              "     width=\"24px\">\n",
              "    <g>\n",
              "        <path d=\"M19 3H5c-1.1 0-2 .9-2 2v14c0 1.1.9 2 2 2h14c1.1 0 2-.9 2-2V5c0-1.1-.9-2-2-2zM9 17H7v-7h2v7zm4 0h-2V7h2v10zm4 0h-2v-4h2v4z\"/>\n",
              "    </g>\n",
              "</svg>\n",
              "  </button>\n",
              "\n",
              "<style>\n",
              "  .colab-df-quickchart {\n",
              "      --bg-color: #E8F0FE;\n",
              "      --fill-color: #1967D2;\n",
              "      --hover-bg-color: #E2EBFA;\n",
              "      --hover-fill-color: #174EA6;\n",
              "      --disabled-fill-color: #AAA;\n",
              "      --disabled-bg-color: #DDD;\n",
              "  }\n",
              "\n",
              "  [theme=dark] .colab-df-quickchart {\n",
              "      --bg-color: #3B4455;\n",
              "      --fill-color: #D2E3FC;\n",
              "      --hover-bg-color: #434B5C;\n",
              "      --hover-fill-color: #FFFFFF;\n",
              "      --disabled-bg-color: #3B4455;\n",
              "      --disabled-fill-color: #666;\n",
              "  }\n",
              "\n",
              "  .colab-df-quickchart {\n",
              "    background-color: var(--bg-color);\n",
              "    border: none;\n",
              "    border-radius: 50%;\n",
              "    cursor: pointer;\n",
              "    display: none;\n",
              "    fill: var(--fill-color);\n",
              "    height: 32px;\n",
              "    padding: 0;\n",
              "    width: 32px;\n",
              "  }\n",
              "\n",
              "  .colab-df-quickchart:hover {\n",
              "    background-color: var(--hover-bg-color);\n",
              "    box-shadow: 0 1px 2px rgba(60, 64, 67, 0.3), 0 1px 3px 1px rgba(60, 64, 67, 0.15);\n",
              "    fill: var(--button-hover-fill-color);\n",
              "  }\n",
              "\n",
              "  .colab-df-quickchart-complete:disabled,\n",
              "  .colab-df-quickchart-complete:disabled:hover {\n",
              "    background-color: var(--disabled-bg-color);\n",
              "    fill: var(--disabled-fill-color);\n",
              "    box-shadow: none;\n",
              "  }\n",
              "\n",
              "  .colab-df-spinner {\n",
              "    border: 2px solid var(--fill-color);\n",
              "    border-color: transparent;\n",
              "    border-bottom-color: var(--fill-color);\n",
              "    animation:\n",
              "      spin 1s steps(1) infinite;\n",
              "  }\n",
              "\n",
              "  @keyframes spin {\n",
              "    0% {\n",
              "      border-color: transparent;\n",
              "      border-bottom-color: var(--fill-color);\n",
              "      border-left-color: var(--fill-color);\n",
              "    }\n",
              "    20% {\n",
              "      border-color: transparent;\n",
              "      border-left-color: var(--fill-color);\n",
              "      border-top-color: var(--fill-color);\n",
              "    }\n",
              "    30% {\n",
              "      border-color: transparent;\n",
              "      border-left-color: var(--fill-color);\n",
              "      border-top-color: var(--fill-color);\n",
              "      border-right-color: var(--fill-color);\n",
              "    }\n",
              "    40% {\n",
              "      border-color: transparent;\n",
              "      border-right-color: var(--fill-color);\n",
              "      border-top-color: var(--fill-color);\n",
              "    }\n",
              "    60% {\n",
              "      border-color: transparent;\n",
              "      border-right-color: var(--fill-color);\n",
              "    }\n",
              "    80% {\n",
              "      border-color: transparent;\n",
              "      border-right-color: var(--fill-color);\n",
              "      border-bottom-color: var(--fill-color);\n",
              "    }\n",
              "    90% {\n",
              "      border-color: transparent;\n",
              "      border-bottom-color: var(--fill-color);\n",
              "    }\n",
              "  }\n",
              "</style>\n",
              "\n",
              "  <script>\n",
              "    async function quickchart(key) {\n",
              "      const quickchartButtonEl =\n",
              "        document.querySelector('#' + key + ' button');\n",
              "      quickchartButtonEl.disabled = true;  // To prevent multiple clicks.\n",
              "      quickchartButtonEl.classList.add('colab-df-spinner');\n",
              "      try {\n",
              "        const charts = await google.colab.kernel.invokeFunction(\n",
              "            'suggestCharts', [key], {});\n",
              "      } catch (error) {\n",
              "        console.error('Error during call to suggestCharts:', error);\n",
              "      }\n",
              "      quickchartButtonEl.classList.remove('colab-df-spinner');\n",
              "      quickchartButtonEl.classList.add('colab-df-quickchart-complete');\n",
              "    }\n",
              "    (() => {\n",
              "      let quickchartButtonEl =\n",
              "        document.querySelector('#df-e0a75864-979d-4614-9689-0b800411fb6a button');\n",
              "      quickchartButtonEl.style.display =\n",
              "        google.colab.kernel.accessAllowed ? 'block' : 'none';\n",
              "    })();\n",
              "  </script>\n",
              "</div>\n",
              "\n",
              "    </div>\n",
              "  </div>\n"
            ],
            "application/vnd.google.colaboratory.intrinsic+json": {
              "type": "dataframe",
              "variable_name": "df",
              "summary": "{\n  \"name\": \"df\",\n  \"rows\": 1929,\n  \"fields\": [\n    {\n      \"column\": \"sentence\",\n      \"properties\": {\n        \"dtype\": \"string\",\n        \"num_unique_values\": 1924,\n        \"samples\": [\n          \"siram njuk nyapu kui rutinitas mben sore ku d\",\n          \"semua pihak rus bersedia duduk bersama kuat kuatan nya akan menambah luka\",\n          \"hore jalanan komplek rumah ud bener goodbye jalan rusak and welcome debu jalanan \"\n        ],\n        \"semantic_type\": \"\",\n        \"description\": \"\"\n      }\n    },\n    {\n      \"column\": \"sentiment\",\n      \"properties\": {\n        \"dtype\": \"number\",\n        \"std\": 0,\n        \"min\": 0,\n        \"max\": 2,\n        \"num_unique_values\": 3,\n        \"samples\": [\n          0,\n          1,\n          2\n        ],\n        \"semantic_type\": \"\",\n        \"description\": \"\"\n      }\n    },\n    {\n      \"column\": \"overall_sentiment\",\n      \"properties\": {\n        \"dtype\": \"number\",\n        \"std\": 0,\n        \"min\": 0,\n        \"max\": 2,\n        \"num_unique_values\": 3,\n        \"samples\": [\n          0,\n          1,\n          2\n        ],\n        \"semantic_type\": \"\",\n        \"description\": \"\"\n      }\n    }\n  ]\n}"
            }
          },
          "metadata": {},
          "execution_count": 5
        }
      ]
    },
    {
      "cell_type": "code",
      "source": [
        "# Define Custom Dataset Class for Sentiment Analysis\n",
        "class SentimentDataset(Dataset):\n",
        "    def __init__(self, dataframe, tokenizer, max_length=128):\n",
        "        self.sentences = dataframe[\"sentence\"].tolist()\n",
        "        self.sentiments = dataframe[\"overall_sentiment\"].tolist()\n",
        "        self.tokenizer = tokenizer\n",
        "        self.max_length = max_length\n",
        "\n",
        "    def __len__(self):\n",
        "        return len(self.sentences)\n",
        "\n",
        "    def __getitem__(self, index):\n",
        "        sentence = str(self.sentences[index])\n",
        "        encoding = self.tokenizer(\n",
        "            sentence,\n",
        "            padding=\"max_length\",\n",
        "            truncation=True,\n",
        "            max_length=self.max_length,\n",
        "            return_tensors=\"pt\"\n",
        "        )\n",
        "\n",
        "        item = {\n",
        "            \"input_ids\": encoding[\"input_ids\"].squeeze(0),\n",
        "            \"attention_mask\": encoding[\"attention_mask\"].squeeze(0),\n",
        "            \"label\": torch.tensor(self.sentiments[index], dtype=torch.long)\n",
        "        }\n",
        "\n",
        "        return item\n"
      ],
      "metadata": {
        "id": "1rYjSrOrg1Of"
      },
      "execution_count": 25,
      "outputs": []
    },
    {
      "cell_type": "code",
      "source": [
        "# Define the RoBERTa Model for Sentiment Analysis\n",
        "class RobertaForSentiment(nn.Module):\n",
        "    def __init__(self, num_sentiments):\n",
        "        super(RobertaForSentiment, self).__init__()\n",
        "        self.roberta = RobertaModel.from_pretrained(\"roberta-base\")\n",
        "        self.sentiment_classifier = nn.Linear(self.roberta.config.hidden_size, num_sentiments)\n",
        "        self.dropout = nn.Dropout(0.3)  # Adding dropout layer for regularization\n",
        "\n",
        "    def forward(self, input_ids, attention_mask):\n",
        "        outputs = self.roberta(input_ids=input_ids, attention_mask=attention_mask)\n",
        "        pooled_output = outputs.pooler_output\n",
        "        pooled_output = self.dropout(pooled_output)  # Apply dropout\n",
        "        sentiment_logits = self.sentiment_classifier(pooled_output)\n",
        "        return sentiment_logits\n",
        "\n",
        "# Setup model, optimizer, and loss functions\n",
        "tokenizer = RobertaTokenizer.from_pretrained(\"roberta-base\")\n",
        "num_sentiments = len(df[\"overall_sentiment\"].unique())\n",
        "model = RobertaForSentiment(num_sentiments=num_sentiments)\n",
        "\n",
        "device = torch.device(\"cuda\" if torch.cuda.is_available() else \"cpu\")\n",
        "model.to(device)\n",
        "\n",
        "sentiment_loss_fn = nn.CrossEntropyLoss()\n",
        "learning_rate = 5e-6  # Experiment with this learning rate for stability\n",
        "optimizer = AdamW(model.parameters(), lr=learning_rate, weight_decay=0.1)  # Increased weight decay for regularization\n",
        "\n",
        "# Define DataLoader for batching\n",
        "train_dataset = SentimentDataset(train_df, tokenizer)\n",
        "val_dataset = SentimentDataset(val_df, tokenizer)\n",
        "test_dataset = SentimentDataset(test_df, tokenizer)\n",
        "\n",
        "train_loader = DataLoader(train_dataset, batch_size=16, shuffle=True)\n",
        "val_loader = DataLoader(val_dataset, batch_size=16)\n",
        "test_loader = DataLoader(test_dataset, batch_size=16)\n"
      ],
      "metadata": {
        "colab": {
          "base_uri": "https://localhost:8080/"
        },
        "id": "BKjERDrWSpXD",
        "outputId": "3adcdbf7-4d2f-476d-ad05-2a184e4a1090"
      },
      "execution_count": 26,
      "outputs": [
        {
          "output_type": "stream",
          "name": "stderr",
          "text": [
            "Some weights of RobertaModel were not initialized from the model checkpoint at roberta-base and are newly initialized: ['roberta.pooler.dense.bias', 'roberta.pooler.dense.weight']\n",
            "You should probably TRAIN this model on a down-stream task to be able to use it for predictions and inference.\n",
            "/usr/local/lib/python3.11/dist-packages/transformers/optimization.py:640: FutureWarning: This implementation of AdamW is deprecated and will be removed in a future version. Use the PyTorch implementation torch.optim.AdamW instead, or set `no_deprecation_warning=True` to disable this warning\n",
            "  warnings.warn(\n"
          ]
        }
      ]
    },
    {
      "cell_type": "code",
      "source": [
        "# Define the evaluation function\n",
        "def evaluate(model, dataloader):\n",
        "    model.eval()\n",
        "    total_loss = 0\n",
        "    total_samples = 0\n",
        "    correct_preds = 0\n",
        "    all_labels = []\n",
        "    all_preds = []\n",
        "\n",
        "    with torch.no_grad():\n",
        "        for batch in dataloader:\n",
        "            input_ids = batch[\"input_ids\"].to(device)\n",
        "            attention_mask = batch[\"attention_mask\"].to(device)\n",
        "            labels = batch[\"label\"].to(device)\n",
        "\n",
        "            sentiment_logits = model(input_ids, attention_mask)\n",
        "            loss = sentiment_loss_fn(sentiment_logits, labels)\n",
        "            total_loss += loss.item()\n",
        "\n",
        "            preds = torch.argmax(sentiment_logits, dim=1)\n",
        "            correct_preds += (preds == labels).sum().item()\n",
        "            total_samples += labels.size(0)\n",
        "\n",
        "            all_labels.extend(labels.cpu().numpy())\n",
        "            all_preds.extend(preds.cpu().numpy())\n",
        "\n",
        "    accuracy = correct_preds / total_samples\n",
        "    avg_loss = total_loss / len(dataloader)\n",
        "\n",
        "    precision = precision_score(all_labels, all_preds, average='macro')\n",
        "    recall = recall_score(all_labels, all_preds, average='macro')\n",
        "    f1 = f1_score(all_labels, all_preds, average='macro')\n",
        "\n",
        "    return accuracy, precision, recall, f1, all_labels, all_preds, avg_loss"
      ],
      "metadata": {
        "id": "XkS_PNysTRBU"
      },
      "execution_count": 27,
      "outputs": []
    },
    {
      "cell_type": "code",
      "source": [
        "print(df[\"overall_sentiment\"].unique())  # Check the unique sentiment labels again\n"
      ],
      "metadata": {
        "colab": {
          "base_uri": "https://localhost:8080/"
        },
        "id": "7Kz9CJ1oU5gL",
        "outputId": "b9d6918a-945a-4b70-fd91-8b7f9c6b7af1"
      },
      "execution_count": 28,
      "outputs": [
        {
          "output_type": "stream",
          "name": "stdout",
          "text": [
            "[0 1 2]\n"
          ]
        }
      ]
    },
    {
      "cell_type": "code",
      "source": [
        "pip install ace_tools"
      ],
      "metadata": {
        "colab": {
          "base_uri": "https://localhost:8080/"
        },
        "id": "c1s0ZjeYIKKE",
        "outputId": "16d60bd9-6437-482b-f7f0-77e404e0c495"
      },
      "execution_count": 10,
      "outputs": [
        {
          "output_type": "stream",
          "name": "stdout",
          "text": [
            "Collecting ace_tools\n",
            "  Downloading ace_tools-0.0-py3-none-any.whl.metadata (300 bytes)\n",
            "Downloading ace_tools-0.0-py3-none-any.whl (1.1 kB)\n",
            "Installing collected packages: ace_tools\n",
            "Successfully installed ace_tools-0.0\n"
          ]
        }
      ]
    },
    {
      "cell_type": "code",
      "source": [
        "import torch\n",
        "from sklearn.metrics import classification_report\n",
        "import pandas as pd\n",
        "from torch.utils.data import DataLoader\n"
      ],
      "metadata": {
        "id": "TJupzJFiXvw7"
      },
      "execution_count": 11,
      "outputs": []
    },
    {
      "cell_type": "code",
      "source": [
        "# Training Loop with Early Stopping\n",
        "num_epochs = 100\n",
        "patience = 4\n",
        "best_val_loss = float(\"inf\")\n",
        "patience_counter = 0\n",
        "\n",
        "train_losses = []\n",
        "val_losses = []\n",
        "results = []\n",
        "best_f1_score = 0\n",
        "best_epoch = 0\n",
        "\n",
        "for epoch in range(num_epochs):\n",
        "    model.train()\n",
        "    total_train_loss = 0\n",
        "    total_train_samples = 0\n",
        "    correct_train_preds = 0\n",
        "\n",
        "    for batch in train_loader:\n",
        "        optimizer.zero_grad()\n",
        "        input_ids = batch[\"input_ids\"].to(device)\n",
        "        attention_mask = batch[\"attention_mask\"].to(device)\n",
        "        labels = batch[\"label\"].to(device)\n",
        "\n",
        "        sentiment_logits = model(input_ids, attention_mask)\n",
        "        loss = sentiment_loss_fn(sentiment_logits, labels)\n",
        "        loss.backward()\n",
        "        optimizer.step()\n",
        "\n",
        "        total_train_loss += loss.item()\n",
        "        preds = torch.argmax(sentiment_logits, dim=1)\n",
        "        correct_train_preds += (preds == labels).sum().item()\n",
        "        total_train_samples += labels.size(0)\n",
        "\n",
        "    train_accuracy = correct_train_preds / total_train_samples\n",
        "    train_loss = total_train_loss / len(train_loader)\n",
        "\n",
        "    val_acc, val_precision, val_recall, val_f1, val_labels, val_preds, val_loss = evaluate(model, val_loader)\n",
        "\n",
        "    train_losses.append(train_loss)\n",
        "    val_losses.append(val_loss)\n",
        "\n",
        "    results.append([epoch + 1, train_loss, val_loss, val_acc, val_precision, val_recall, val_f1])\n",
        "\n",
        "    print(f\"{epoch+1}\\t{train_loss:.6f}\\t{val_loss:.6f}\\t{val_acc:.6f}\\t{val_precision:.6f}\\t{val_recall:.6f}\\t{val_f1:.6f}\")\n",
        "\n",
        "    if val_f1 > best_f1_score:\n",
        "        best_f1_score = val_f1\n",
        "        best_epoch = epoch + 1\n",
        "\n",
        "    if val_loss < best_val_loss:\n",
        "        best_val_loss = val_loss\n",
        "        patience_counter = 0\n",
        "    else:\n",
        "        patience_counter += 1\n",
        "\n",
        "    if patience_counter >= patience:\n",
        "        print(f\"Early stopping triggered at Epoch {epoch + 1}.\")\n",
        "        break\n",
        "\n",
        "# Display results\n",
        "results_df = pd.DataFrame(results, columns=[\"Epoch\", \"Training Loss\", \"Validation Loss\", \"Accuracy\", \"Precision\", \"Recall\", \"F1\"])\n",
        "print(\"\\nTraining Results Summary:\")\n",
        "print(results_df)\n",
        "\n",
        "print(f\"Best F1 score: {best_f1_score:.6f} at Epoch {best_epoch}\")\n",
        "\n",
        "# Plotting the training and validation loss\n",
        "plt.figure(figsize=(8, 6))\n",
        "plt.plot(range(1, len(train_losses) + 1), train_losses, label=\"loss\")\n",
        "plt.plot(range(1, len(val_losses) + 1), val_losses, label=\"eval_loss\")\n",
        "plt.xlabel('epoch')\n",
        "plt.legend()\n",
        "plt.show()\n",
        "\n",
        "# Confusion Matrix Generation for Test Set\n",
        "test_acc, test_f1, test_recall, test_precision, test_labels, test_preds, _ = evaluate(model, test_loader)\n",
        "print(f\"Test Accuracy: {test_acc:.4f}, Test F1: {test_f1:.4f}, Test Recall: {test_recall:.4f}, Test Precision: {test_precision:.4f}\")\n",
        "\n",
        "generate_confusion_matrix(test_labels, test_preds, num_sentiments)"
      ],
      "metadata": {
        "id": "QRiLEW7lJFzQ",
        "colab": {
          "base_uri": "https://localhost:8080/",
          "height": 1000
        },
        "outputId": "574af46f-73af-4f75-8ae5-46ce4987302e"
      },
      "execution_count": 29,
      "outputs": [
        {
          "output_type": "stream",
          "name": "stdout",
          "text": [
            "1\t1.067021\t0.935505\t0.497409\t0.529028\t0.515651\t0.482312\n",
            "2\t0.878026\t0.755657\t0.668394\t0.669158\t0.659397\t0.653151\n",
            "3\t0.694850\t0.670725\t0.746114\t0.754320\t0.733244\t0.739998\n",
            "4\t0.514060\t0.551903\t0.797927\t0.802608\t0.792181\t0.796335\n",
            "5\t0.393897\t0.471067\t0.803109\t0.802468\t0.799359\t0.799882\n",
            "6\t0.305231\t0.483217\t0.844560\t0.846496\t0.842831\t0.844345\n",
            "7\t0.236804\t0.512549\t0.886010\t0.893494\t0.880385\t0.885463\n",
            "8\t0.184927\t0.433622\t0.875648\t0.875427\t0.876646\t0.875915\n",
            "9\t0.139600\t0.495079\t0.880829\t0.886395\t0.875094\t0.879596\n",
            "10\t0.113343\t0.415194\t0.875648\t0.880081\t0.872725\t0.875825\n",
            "11\t0.089939\t0.614314\t0.849741\t0.848385\t0.855999\t0.849763\n",
            "12\t0.073454\t0.456639\t0.875648\t0.889343\t0.872689\t0.878547\n",
            "13\t0.051367\t0.430176\t0.896373\t0.902714\t0.895850\t0.897906\n",
            "14\t0.040253\t0.417832\t0.875648\t0.884829\t0.874686\t0.878836\n",
            "Early stopping triggered at Epoch 14.\n",
            "\n",
            "Training Results Summary:\n",
            "    Epoch  Training Loss  Validation Loss  Accuracy  Precision    Recall  \\\n",
            "0       1       1.067021         0.935505  0.497409   0.529028  0.515651   \n",
            "1       2       0.878026         0.755657  0.668394   0.669158  0.659397   \n",
            "2       3       0.694850         0.670725  0.746114   0.754320  0.733244   \n",
            "3       4       0.514060         0.551903  0.797927   0.802608  0.792181   \n",
            "4       5       0.393897         0.471067  0.803109   0.802468  0.799359   \n",
            "5       6       0.305231         0.483217  0.844560   0.846496  0.842831   \n",
            "6       7       0.236804         0.512549  0.886010   0.893494  0.880385   \n",
            "7       8       0.184927         0.433622  0.875648   0.875427  0.876646   \n",
            "8       9       0.139600         0.495079  0.880829   0.886395  0.875094   \n",
            "9      10       0.113343         0.415194  0.875648   0.880081  0.872725   \n",
            "10     11       0.089939         0.614314  0.849741   0.848385  0.855999   \n",
            "11     12       0.073454         0.456639  0.875648   0.889343  0.872689   \n",
            "12     13       0.051367         0.430176  0.896373   0.902714  0.895850   \n",
            "13     14       0.040253         0.417832  0.875648   0.884829  0.874686   \n",
            "\n",
            "          F1  \n",
            "0   0.482312  \n",
            "1   0.653151  \n",
            "2   0.739998  \n",
            "3   0.796335  \n",
            "4   0.799882  \n",
            "5   0.844345  \n",
            "6   0.885463  \n",
            "7   0.875915  \n",
            "8   0.879596  \n",
            "9   0.875825  \n",
            "10  0.849763  \n",
            "11  0.878547  \n",
            "12  0.897906  \n",
            "13  0.878836  \n",
            "Best F1 score: 0.897906 at Epoch 13\n"
          ]
        },
        {
          "output_type": "display_data",
          "data": {
            "text/plain": [
              "<Figure size 800x600 with 1 Axes>"
            ],
            "image/png": "[encoded data removed]"
          },
          "metadata": {}
        },
        {
          "output_type": "stream",
          "name": "stdout",
          "text": [
            "Test Accuracy: 0.8549, Test F1: 0.8602, Test Recall: 0.8567, Test Precision: 0.8545\n"
          ]
        },
        {
          "output_type": "display_data",
          "data": {
            "text/plain": [
              "<Figure size 800x600 with 2 Axes>"
            ],
            "image/png": "[encoded data removed]"
          },
          "metadata": {}
        }
      ]
    },
    {
      "cell_type": "code",
      "source": [
        "# Example usage for a single text\n",
        "sample_text = \"the phone battery amazing.\"\n",
        "max_length = 128  # Define the max_length here or earlier in your code\n",
        "encoding = tokenizer(sample_text, padding=\"max_length\", truncation=True, max_length=max_length, return_tensors=\"pt\").to(device)\n",
        "with torch.no_grad():\n",
        "    sentiment_logits = model(encoding[\"input_ids\"], encoding[\"attention_mask\"])\n",
        "sentiment_pred = torch.argmax(sentiment_logits, dim=1).item()\n",
        "print(f\"Predicted sentiment: {sentiment_pred}\")"
      ],
      "metadata": {
        "colab": {
          "base_uri": "https://localhost:8080/"
        },
        "id": "yxeld-t6hU_p",
        "outputId": "6a4ae415-6c14-45e1-b967-993d2ec225ea"
      },
      "execution_count": 24,
      "outputs": [
        {
          "output_type": "stream",
          "name": "stdout",
          "text": [
            "Predicted sentiment: 1\n"
          ]
        }
      ]
    },
    {
      "cell_type": "code",
      "source": [],
      "metadata": {
        "id": "Dw61476hRG8h"
      },
      "execution_count": 22,
      "outputs": []
    }
  ]
}